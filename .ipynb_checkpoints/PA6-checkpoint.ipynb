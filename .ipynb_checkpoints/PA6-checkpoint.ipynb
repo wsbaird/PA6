{
 "cells": [
  {
   "cell_type": "code",
   "execution_count": 9,
   "metadata": {},
   "outputs": [],
   "source": [
    "import numpy as np"
   ]
  },
  {
   "cell_type": "code",
   "execution_count": 11,
   "metadata": {},
   "outputs": [
    {
     "name": "stdout",
     "output_type": "stream",
     "text": [
      "[[ 100  400]\n",
      " [ 900 1600]]\n",
      "[[110 120]\n",
      " [130 140]]\n",
      "[[ 50 100]\n",
      " [150 200]]\n",
      "[[3.16227766 4.47213595]\n",
      " [5.47722558 6.32455532]]\n"
     ]
    }
   ],
   "source": [
    "x = np.array ([[10,20],[30,40]])\n",
    "squarex= x*x\n",
    "print (squarex)\n",
    "addedx = x + 100\n",
    "print (addedx)\n",
    "multix = x*5\n",
    "print(multix)\n",
    "sqx = np.sqrt(x)\n",
    "print(sqx)"
   ]
  },
  {
   "cell_type": "code",
   "execution_count": 31,
   "metadata": {},
   "outputs": [
    {
     "name": "stdout",
     "output_type": "stream",
     "text": [
      "1.0\n",
      "[10 11 12 13 14 15 16 17 18 19 20]\n"
     ]
    }
   ],
   "source": [
    "x = np.array(range(10,21))\n",
    "y = float(11) // float(9)\n",
    "print (y)\n",
    "multix = x\n",
    "print (multix)"
   ]
  },
  {
   "cell_type": "code",
   "execution_count": 50,
   "metadata": {},
   "outputs": [
    {
     "name": "stdout",
     "output_type": "stream",
     "text": [
      "[[ 33  72 117]\n",
      " [168 225 288]\n",
      " [357 432 513]]\n"
     ]
    },
    {
     "data": {
      "text/plain": [
       "numpy.ndarray"
      ]
     },
     "execution_count": 50,
     "metadata": {},
     "output_type": "execute_result"
    }
   ],
   "source": [
    "sevenar = np.array([[3,6,9],[12,15,18],[21,24,27]])\n",
    "numar = np.array([[11,12,13],[14,15,16],[17,18,19]])\n",
    "mular= sevenar*numar\n",
    "print (mular)\n",
    "type (mular)"
   ]
  },
  {
   "cell_type": "code",
   "execution_count": 62,
   "metadata": {},
   "outputs": [
    {
     "name": "stdout",
     "output_type": "stream",
     "text": [
      "[[[52 12 81  0 58]]\n",
      "\n",
      " [[96  4 61 16 43]]\n",
      "\n",
      " [[38 96 45 17 58]]\n",
      "\n",
      " [[97 21 22 25  6]]\n",
      "\n",
      " [[77  6 19  2 74]]]\n"
     ]
    },
    {
     "data": {
      "text/plain": [
       "(5, 1, 5)"
      ]
     },
     "execution_count": 62,
     "metadata": {},
     "output_type": "execute_result"
    }
   ],
   "source": [
    "loadednp = np.array([np.load(\"process1.npy\"),np.load(\"process2.npy\"),np.load(\"process3.npy\"),np.load(\"process4.npy\"),np.load(\"process5.npy\")])\n",
    "print(loadednp)\n",
    "type (loadednp)\n",
    "loadednp.shape"
   ]
  },
  {
   "cell_type": "code",
   "execution_count": 70,
   "metadata": {},
   "outputs": [
    {
     "name": "stdout",
     "output_type": "stream",
     "text": [
      "[[52 12 81  0 58]]\n",
      "[52 12 81  0 58]\n"
     ]
    }
   ],
   "source": [
    "array1 = np.load(\"process1.npy\")\n",
    "print (array1)\n",
    "array1.shape\n",
    "a = array1[0, :]\n",
    "a.shape\n",
    "print (a)"
   ]
  },
  {
   "cell_type": "code",
   "execution_count": 77,
   "metadata": {},
   "outputs": [
    {
     "name": "stdout",
     "output_type": "stream",
     "text": [
      "[[52 12 81  0 58]\n",
      " [96  4 61 16 43]\n",
      " [38 96 45 17 58]\n",
      " [97 21 22 25  6]\n",
      " [77  6 19  2 74]]\n"
     ]
    }
   ],
   "source": [
    "array1 = np.load(\"process1.npy\")\n",
    "a = array1[0, :]\n",
    "array2 = np.load(\"process2.npy\")\n",
    "b = array2[0, :]\n",
    "array3 = np.load(\"process3.npy\")\n",
    "c = array3[0, :]\n",
    "array4 = np.load(\"process4.npy\")\n",
    "d = array4[0, :]\n",
    "array5 = np.load(\"process5.npy\")\n",
    "e = array5[0, :]\n",
    "refinedarray = np.array([a,b,c,d,e])\n",
    "print (refinedarray)\n",
    "refinedarray.shape\n",
    "x= refinedarray"
   ]
  },
  {
   "cell_type": "code",
   "execution_count": 81,
   "metadata": {},
   "outputs": [
    {
     "name": "stdout",
     "output_type": "stream",
     "text": [
      "72.0\n",
      "27.8\n",
      "45.6\n",
      "12.0\n",
      "47.8\n"
     ]
    }
   ],
   "source": [
    "print(numpy.mean(x[:, 0]))\n",
    "print(numpy.mean(x[:, 1]))\n",
    "print(numpy.mean(x[:, 2]))\n",
    "print(numpy.mean(x[:, 3]))\n",
    "print(numpy.mean(x[:, 4]))"
   ]
  },
  {
   "cell_type": "code",
   "execution_count": null,
   "metadata": {},
   "outputs": [],
   "source": []
  }
 ],
 "metadata": {
  "kernelspec": {
   "display_name": "Python 3",
   "language": "python",
   "name": "python3"
  },
  "language_info": {
   "codemirror_mode": {
    "name": "ipython",
    "version": 3
   },
   "file_extension": ".py",
   "mimetype": "text/x-python",
   "name": "python",
   "nbconvert_exporter": "python",
   "pygments_lexer": "ipython3",
   "version": "3.8.3"
  }
 },
 "nbformat": 4,
 "nbformat_minor": 4
}
